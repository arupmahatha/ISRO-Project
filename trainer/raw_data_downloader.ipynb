{
 "cells": [
  {
   "cell_type": "code",
   "execution_count": 17,
   "metadata": {},
   "outputs": [
    {
     "name": "stderr",
     "output_type": "stream",
     "text": [
      "WARNING - 2024-12-29T13:43:40Z - Deprecation warning for option 'subset_method'. This option will no longer be available in copernicusmarine>=2.0.0. Please refer to the documentation when the new major version is released for more information.\n",
      "WARNING - 2024-12-29T13:43:40Z - Deprecation warning for option 'force_download'. This option will no longer be available in copernicusmarine>=2.0.0. Please refer to the documentation when the new major version is released for more information.\n",
      "INFO - 2024-12-29T13:43:41Z - You forced selection of dataset version \"202311\"\n",
      "INFO - 2024-12-29T13:43:41Z - Dataset part was not specified, the first one was selected: \"default\"\n",
      "INFO - 2024-12-29T13:43:47Z - Service was not specified, the default one was selected: \"arco-time-series\"\n",
      "INFO - 2024-12-29T13:43:52Z - Downloading using service arco-time-series...\n",
      "INFO - 2024-12-29T13:43:57Z - Estimated size of the dataset file is 0.032 MB.\n",
      "INFO - 2024-12-29T13:43:57Z - Writing to local storage. Please wait...\n",
      "INFO - 2024-12-29T13:43:59Z - Successfully downloaded to raw_data/chl.nc\n"
     ]
    },
    {
     "data": {
      "text/plain": [
       "PosixPath('raw_data/chl.nc')"
      ]
     },
     "execution_count": 17,
     "metadata": {},
     "output_type": "execute_result"
    }
   ],
   "source": [
    "import copernicusmarine\n",
    "import os\n",
    "from dotenv import load_dotenv\n",
    "\n",
    "# Load environment variables from .env file\n",
    "load_dotenv()\n",
    "\n",
    "# Get credentials from environment variables\n",
    "username = os.getenv('COPERNICUS_USERNAME')\n",
    "password = os.getenv('COPERNICUS_PASSWORD')\n",
    "\n",
    "# Create raw_data directory if it doesn't exist\n",
    "os.makedirs('raw_data', exist_ok=True)\n",
    "\n",
    "# Define output path\n",
    "output_path = os.path.join('raw_data', 'chl.nc')\n",
    "\n",
    "# Set credentials directly in the subset call\n",
    "copernicusmarine.subset(\n",
    "  dataset_id=\"cmems_mod_glo_bgc-pft_anfc_0.25deg_P1M-m\",\n",
    "  dataset_version=\"202311\",\n",
    "  variables=[\"chl\"],\n",
    "  minimum_longitude=87,\n",
    "  maximum_longitude=91,\n",
    "  minimum_latitude=20,\n",
    "  maximum_latitude=23,\n",
    "  start_datetime=\"2021-10-01T00:00:00\",\n",
    "  end_datetime=\"2024-11-01T00:00:00\",\n",
    "  minimum_depth=0.4940253794193268,\n",
    "  maximum_depth=0.4940253794193268,\n",
    "  force_download=True,\n",
    "  subset_method=\"strict\",\n",
    "  disable_progress_bar=True,\n",
    "  output_filename=output_path,\n",
    "  username=username,\n",
    "  password=password\n",
    ")"
   ]
  },
  {
   "cell_type": "code",
   "execution_count": null,
   "metadata": {},
   "outputs": [],
   "source": []
  }
 ],
 "metadata": {
  "kernelspec": {
   "display_name": "Python 3",
   "language": "python",
   "name": "python3"
  },
  "language_info": {
   "codemirror_mode": {
    "name": "ipython",
    "version": 3
   },
   "file_extension": ".py",
   "mimetype": "text/x-python",
   "name": "python",
   "nbconvert_exporter": "python",
   "pygments_lexer": "ipython3",
   "version": "3.13.2"
  }
 },
 "nbformat": 4,
 "nbformat_minor": 2
}
