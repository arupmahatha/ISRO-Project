{
 "cells": [
  {
   "cell_type": "code",
   "execution_count": 1,
   "metadata": {},
   "outputs": [],
   "source": [
    "import pandas as pd\n",
    "import os\n",
    "\n",
    "# Define the source and destination directories\n",
    "source_dir = '/Users/arup/Documents/ISRO-Project/trainer/processed_data'\n",
    "destination_dir = '/Users/arup/Documents/ISRO-Project/prediction/imported_data'\n",
    "\n",
    "# List all CSV files in the source directory\n",
    "csv_files = [f for f in os.listdir(source_dir) if f.endswith('.csv')]\n",
    "\n",
    "# Define the date range change function\n",
    "def change_date_range(date_str):\n",
    "    original_date = pd.to_datetime(date_str)\n",
    "    new_dates = []\n",
    "    for year in range(2025, 2030):\n",
    "        try:\n",
    "            new_date = original_date.replace(year=year)\n",
    "            new_dates.append(new_date.strftime('%Y-%m-%d'))\n",
    "        except ValueError as e:\n",
    "            print(f\"ValueError for date: {date_str} with error: {e}\")\n",
    "    return new_dates\n",
    "\n",
    "# Process each CSV file\n",
    "for csv_file in csv_files:\n",
    "    # Read the CSV file\n",
    "    df = pd.read_csv(os.path.join(source_dir, csv_file))\n",
    "    \n",
    "    # Filter the DataFrame for the date range between 2023-12-01 and 2024-11-01\n",
    "    df['time'] = pd.to_datetime(df['time'])\n",
    "    df = df[(df['time'] >= '2023-12-01') & (df['time'] <= '2024-11-01')]\n",
    "    \n",
    "    # Change the date range for the 'time' column\n",
    "    new_time_rows = []\n",
    "    for index, row in df.iterrows():\n",
    "        new_dates = change_date_range(row['time'])\n",
    "        for new_date in new_dates:\n",
    "            new_row = row.copy()\n",
    "            new_row['time'] = new_date\n",
    "            new_time_rows.append(new_row)\n",
    "    \n",
    "    # Create a new DataFrame with the updated dates\n",
    "    new_df = pd.DataFrame(new_time_rows)\n",
    "    \n",
    "    # Sort the DataFrame by date\n",
    "    new_df['time'] = pd.to_datetime(new_df['time'])\n",
    "    new_df = new_df.sort_values('time')\n",
    "    \n",
    "    # Save the new DataFrame to the destination directory\n",
    "    new_df.to_csv(os.path.join(destination_dir, csv_file), index=False)"
   ]
  }
 ],
 "metadata": {
  "kernelspec": {
   "display_name": "Python 3",
   "language": "python",
   "name": "python3"
  },
  "language_info": {
   "codemirror_mode": {
    "name": "ipython",
    "version": 3
   },
   "file_extension": ".py",
   "mimetype": "text/x-python",
   "name": "python",
   "nbconvert_exporter": "python",
   "pygments_lexer": "ipython3",
   "version": "3.13.2"
  }
 },
 "nbformat": 4,
 "nbformat_minor": 2
}
